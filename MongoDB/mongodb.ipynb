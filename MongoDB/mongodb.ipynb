{
 "cells": [
  {
   "cell_type": "markdown",
   "metadata": {},
   "source": [
    "# Creating new database and collection"
   ]
  },
  {
   "cell_type": "code",
   "execution_count": 2,
   "metadata": {},
   "outputs": [],
   "source": [
    "import pymongo\n",
    "\n",
    "new_client = pymongo.MongoClient(\"mongodb://localhost:27017\")\n",
    "\n",
    "new_db = new_client['data_test']\n",
    "\n",
    "new_col = new_db['students']"
   ]
  },
  {
   "cell_type": "markdown",
   "metadata": {},
   "source": [
    "# Adding single data"
   ]
  },
  {
   "cell_type": "code",
   "execution_count": 12,
   "metadata": {},
   "outputs": [
    {
     "name": "stdout",
     "output_type": "stream",
     "text": [
      "64f06e36eb393a9c003763e3\n"
     ]
    }
   ],
   "source": [
    "new_dict = {\"name\": \"Messi\", \"code\": \"code11\"}\n",
    "\n",
    "adding = new_col.insert_one(new_dict)\n",
    "\n",
    "print(adding.inserted_id)"
   ]
  },
  {
   "cell_type": "markdown",
   "metadata": {},
   "source": [
    "# Adding multiple data"
   ]
  },
  {
   "cell_type": "code",
   "execution_count": 13,
   "metadata": {},
   "outputs": [
    {
     "name": "stdout",
     "output_type": "stream",
     "text": [
      "[ObjectId('64f06e39eb393a9c003763e4'), ObjectId('64f06e39eb393a9c003763e5'), ObjectId('64f06e39eb393a9c003763e6'), ObjectId('64f06e39eb393a9c003763e7'), ObjectId('64f06e39eb393a9c003763e8'), ObjectId('64f06e39eb393a9c003763e9')]\n"
     ]
    }
   ],
   "source": [
    "list_of_students = [\n",
    "    { \"name\": \"student00\", \"code\": \"code00\" },\n",
    "    { \"name\": \"student01\", \"code\": \"code01\" },\n",
    "    { \"name\": \"student02\", \"code\": \"code02\" },\n",
    "    { \"name\": \"student03\", \"code\": \"code03\" },\n",
    "    { \"name\": \"student04\", \"code\": \"code04\" },\n",
    "    { \"name\": \"student05\", \"code\": \"code05\" }\n",
    "]\n",
    "\n",
    "add_many= new_col.insert_many(list_of_students)\n",
    "\n",
    "print(add_many.inserted_ids)"
   ]
  },
  {
   "cell_type": "markdown",
   "metadata": {},
   "source": [
    "# Changing default id number"
   ]
  },
  {
   "cell_type": "code",
   "execution_count": 17,
   "metadata": {},
   "outputs": [
    {
     "name": "stdout",
     "output_type": "stream",
     "text": [
      "[1, 2, 3, 4, 5, 6]\n"
     ]
    }
   ],
   "source": [
    "list_of_students = [\n",
    "    { \"_id\": 1, \"name\": \"student00\", \"code\": \"code00\" },\n",
    "    { \"_id\": 2, \"name\": \"student01\", \"code\": \"code01\" },\n",
    "    { \"_id\": 3, \"name\": \"student02\", \"code\": \"code02\" },\n",
    "    { \"_id\": 4, \"name\": \"student03\", \"code\": \"code03\" },\n",
    "    { \"_id\": 5, \"name\": \"student04\", \"code\": \"code04\" },\n",
    "    { \"_id\": 6, \"name\": \"student05\", \"code\": \"code05\" }\n",
    "]\n",
    "\n",
    "adding_many = new_col.insert_many(list_of_students)\n",
    "\n",
    "print(adding_many.inserted_ids)"
   ]
  },
  {
   "cell_type": "markdown",
   "metadata": {},
   "source": [
    "# Show Data"
   ]
  },
  {
   "cell_type": "code",
   "execution_count": 15,
   "metadata": {},
   "outputs": [
    {
     "name": "stdout",
     "output_type": "stream",
     "text": [
      "{'_id': ObjectId('64f06e36eb393a9c003763e3'), 'name': 'Messi', 'code': 'code11'}\n"
     ]
    }
   ],
   "source": [
    "finding= new_col.find_one()\n",
    "print(finding)"
   ]
  },
  {
   "cell_type": "markdown",
   "metadata": {},
   "source": [
    "# Show all Data"
   ]
  },
  {
   "cell_type": "code",
   "execution_count": 3,
   "metadata": {},
   "outputs": [
    {
     "name": "stdout",
     "output_type": "stream",
     "text": [
      "{'_id': ObjectId('64f06e36eb393a9c003763e3'), 'name': 'Messi', 'code': 'code11'}\n",
      "{'_id': ObjectId('64f06e39eb393a9c003763e4'), 'name': 'student00', 'code': 'code00'}\n",
      "{'_id': ObjectId('64f06e39eb393a9c003763e5'), 'name': 'student01', 'code': 'code01'}\n",
      "{'_id': ObjectId('64f06e39eb393a9c003763e6'), 'name': 'student02', 'code': 'code02'}\n",
      "{'_id': ObjectId('64f06e39eb393a9c003763e7'), 'name': 'student03', 'code': 'code03'}\n",
      "{'_id': ObjectId('64f06e39eb393a9c003763e8'), 'name': 'student04', 'code': 'code04'}\n",
      "{'_id': ObjectId('64f06e39eb393a9c003763e9'), 'name': 'student05', 'code': 'code05'}\n",
      "{'_id': 1, 'name': 'student00', 'code': 'code00'}\n",
      "{'_id': 2, 'name': 'student01', 'code': 'code01'}\n",
      "{'_id': 3, 'name': 'student02', 'code': 'code02'}\n",
      "{'_id': 4, 'name': 'student03', 'code': 'code03'}\n",
      "{'_id': 5, 'name': 'student04', 'code': 'code04'}\n",
      "{'_id': 6, 'name': 'student05', 'code': 'code05'}\n"
     ]
    }
   ],
   "source": [
    "for docu in new_col.find():\n",
    "    print(docu)"
   ]
  },
  {
   "cell_type": "markdown",
   "metadata": {},
   "source": [
    "# Show Specefic Data"
   ]
  },
  {
   "cell_type": "code",
   "execution_count": 4,
   "metadata": {},
   "outputs": [
    {
     "name": "stdout",
     "output_type": "stream",
     "text": [
      "{'_id': ObjectId('64f06e39eb393a9c003763e5'), 'name': 'student01', 'code': 'code01'}\n",
      "{'_id': 2, 'name': 'student01', 'code': 'code01'}\n"
     ]
    }
   ],
   "source": [
    "new_query = {\"code\": \"code01\"}\n",
    "\n",
    "new_doc= new_col.find(new_query)\n",
    "\n",
    "for i in new_doc:\n",
    "    print(i)"
   ]
  },
  {
   "cell_type": "code",
   "execution_count": 7,
   "metadata": {},
   "outputs": [
    {
     "name": "stdout",
     "output_type": "stream",
     "text": [
      "{'_id': ObjectId('64f06e36eb393a9c003763e3'), 'name': 'Messi', 'code': 'code11'}\n",
      "{'_id': ObjectId('64f06e39eb393a9c003763e4'), 'name': 'student00', 'code': 'code00'}\n",
      "{'_id': ObjectId('64f06e39eb393a9c003763e5'), 'name': 'student01', 'code': 'code01'}\n",
      "{'_id': ObjectId('64f06e39eb393a9c003763e6'), 'name': 'student02', 'code': 'code02'}\n",
      "{'_id': ObjectId('64f06e39eb393a9c003763e7'), 'name': 'student03', 'code': 'code03'}\n",
      "{'_id': ObjectId('64f06e39eb393a9c003763e8'), 'name': 'student04', 'code': 'code04'}\n",
      "{'_id': ObjectId('64f06e39eb393a9c003763e9'), 'name': 'student05', 'code': 'code05'}\n",
      "{'_id': 1, 'name': 'student00', 'code': 'code00'}\n",
      "{'_id': 2, 'name': 'student01', 'code': 'code01'}\n",
      "{'_id': 3, 'name': 'student02', 'code': 'code02'}\n",
      "{'_id': 4, 'name': 'student03', 'code': 'code03'}\n",
      "{'_id': 5, 'name': 'student04', 'code': 'code04'}\n",
      "{'_id': 6, 'name': 'student05', 'code': 'code05'}\n"
     ]
    }
   ],
   "source": [
    "new_query={\"code\": {\"$gt\": \"code\"}}\n",
    "new_doc= new_col.find(new_query)\n",
    "\n",
    "for i in new_doc:\n",
    "    print(i)"
   ]
  },
  {
   "cell_type": "markdown",
   "metadata": {},
   "source": [
    "# Sorting Data"
   ]
  },
  {
   "cell_type": "markdown",
   "metadata": {},
   "source": [
    "Ascending order"
   ]
  },
  {
   "cell_type": "code",
   "execution_count": 8,
   "metadata": {},
   "outputs": [
    {
     "name": "stdout",
     "output_type": "stream",
     "text": [
      "{'_id': ObjectId('64f06e36eb393a9c003763e3'), 'name': 'Messi', 'code': 'code11'}\n",
      "{'_id': ObjectId('64f06e39eb393a9c003763e4'), 'name': 'student00', 'code': 'code00'}\n",
      "{'_id': 1, 'name': 'student00', 'code': 'code00'}\n",
      "{'_id': ObjectId('64f06e39eb393a9c003763e5'), 'name': 'student01', 'code': 'code01'}\n",
      "{'_id': 2, 'name': 'student01', 'code': 'code01'}\n",
      "{'_id': ObjectId('64f06e39eb393a9c003763e6'), 'name': 'student02', 'code': 'code02'}\n",
      "{'_id': 3, 'name': 'student02', 'code': 'code02'}\n",
      "{'_id': ObjectId('64f06e39eb393a9c003763e7'), 'name': 'student03', 'code': 'code03'}\n",
      "{'_id': 4, 'name': 'student03', 'code': 'code03'}\n",
      "{'_id': ObjectId('64f06e39eb393a9c003763e8'), 'name': 'student04', 'code': 'code04'}\n",
      "{'_id': 5, 'name': 'student04', 'code': 'code04'}\n",
      "{'_id': ObjectId('64f06e39eb393a9c003763e9'), 'name': 'student05', 'code': 'code05'}\n",
      "{'_id': 6, 'name': 'student05', 'code': 'code05'}\n"
     ]
    }
   ],
   "source": [
    "new_query = new_col.find().sort(\"name\")\n",
    "\n",
    "for i in new_query:\n",
    "    print(i)"
   ]
  },
  {
   "cell_type": "markdown",
   "metadata": {},
   "source": [
    "Descending order"
   ]
  },
  {
   "cell_type": "code",
   "execution_count": 9,
   "metadata": {},
   "outputs": [
    {
     "name": "stdout",
     "output_type": "stream",
     "text": [
      "{'_id': ObjectId('64f06e39eb393a9c003763e9'), 'name': 'student05', 'code': 'code05'}\n",
      "{'_id': 6, 'name': 'student05', 'code': 'code05'}\n",
      "{'_id': ObjectId('64f06e39eb393a9c003763e8'), 'name': 'student04', 'code': 'code04'}\n",
      "{'_id': 5, 'name': 'student04', 'code': 'code04'}\n",
      "{'_id': ObjectId('64f06e39eb393a9c003763e7'), 'name': 'student03', 'code': 'code03'}\n",
      "{'_id': 4, 'name': 'student03', 'code': 'code03'}\n",
      "{'_id': ObjectId('64f06e39eb393a9c003763e6'), 'name': 'student02', 'code': 'code02'}\n",
      "{'_id': 3, 'name': 'student02', 'code': 'code02'}\n",
      "{'_id': ObjectId('64f06e39eb393a9c003763e5'), 'name': 'student01', 'code': 'code01'}\n",
      "{'_id': 2, 'name': 'student01', 'code': 'code01'}\n",
      "{'_id': ObjectId('64f06e39eb393a9c003763e4'), 'name': 'student00', 'code': 'code00'}\n",
      "{'_id': 1, 'name': 'student00', 'code': 'code00'}\n",
      "{'_id': ObjectId('64f06e36eb393a9c003763e3'), 'name': 'Messi', 'code': 'code11'}\n"
     ]
    }
   ],
   "source": [
    "new_query = new_col.find().sort(\"name\",-1)\n",
    "\n",
    "for i in new_query:\n",
    "    print(i)"
   ]
  },
  {
   "cell_type": "markdown",
   "metadata": {},
   "source": [
    "# Deleting Data"
   ]
  },
  {
   "cell_type": "markdown",
   "metadata": {},
   "source": [
    "Deleting one document"
   ]
  },
  {
   "cell_type": "code",
   "execution_count": 12,
   "metadata": {},
   "outputs": [
    {
     "name": "stdout",
     "output_type": "stream",
     "text": [
      "{'_id': ObjectId('64f06e36eb393a9c003763e3'), 'name': 'Messi', 'code': 'code11'}\n",
      "{'_id': ObjectId('64f06e39eb393a9c003763e4'), 'name': 'student00', 'code': 'code00'}\n",
      "{'_id': ObjectId('64f06e39eb393a9c003763e6'), 'name': 'student02', 'code': 'code02'}\n",
      "{'_id': ObjectId('64f06e39eb393a9c003763e7'), 'name': 'student03', 'code': 'code03'}\n",
      "{'_id': ObjectId('64f06e39eb393a9c003763e8'), 'name': 'student04', 'code': 'code04'}\n",
      "{'_id': ObjectId('64f06e39eb393a9c003763e9'), 'name': 'student05', 'code': 'code05'}\n",
      "{'_id': 1, 'name': 'student00', 'code': 'code00'}\n",
      "{'_id': 3, 'name': 'student02', 'code': 'code02'}\n",
      "{'_id': 4, 'name': 'student03', 'code': 'code03'}\n",
      "{'_id': 5, 'name': 'student04', 'code': 'code04'}\n",
      "{'_id': 6, 'name': 'student05', 'code': 'code05'}\n"
     ]
    }
   ],
   "source": [
    "new_query = {\"code\": \"code01\"}\n",
    "\n",
    "new_col.delete_one(new_query)\n",
    "\n",
    "for x in new_col.find():\n",
    "    print(x)"
   ]
  },
  {
   "cell_type": "markdown",
   "metadata": {},
   "source": [
    "Deleting multiple docs"
   ]
  },
  {
   "cell_type": "code",
   "execution_count": 14,
   "metadata": {},
   "outputs": [
    {
     "name": "stdout",
     "output_type": "stream",
     "text": [
      "2 documents deleted from the collection\n"
     ]
    }
   ],
   "source": [
    "new_q = {\"code\": {\"$regex\": \"^code03\"}}\n",
    "\n",
    "x= new_col.delete_many(new_q)\n",
    "\n",
    "print(x.deleted_count, \"documents deleted from the collection\")"
   ]
  },
  {
   "cell_type": "markdown",
   "metadata": {},
   "source": [
    "Delete all docs"
   ]
  },
  {
   "cell_type": "code",
   "execution_count": 15,
   "metadata": {},
   "outputs": [
    {
     "name": "stdout",
     "output_type": "stream",
     "text": [
      "9 documents deleted from the collection\n"
     ]
    }
   ],
   "source": [
    "remove_all = new_col.delete_many({})\n",
    "\n",
    "print(remove_all.deleted_count, \"documents deleted from the collection\")"
   ]
  },
  {
   "cell_type": "markdown",
   "metadata": {},
   "source": [
    "# Deleting Collection "
   ]
  },
  {
   "cell_type": "code",
   "execution_count": 16,
   "metadata": {},
   "outputs": [],
   "source": [
    "new_col.drop()"
   ]
  },
  {
   "cell_type": "markdown",
   "metadata": {},
   "source": [
    "# Updating Collection"
   ]
  },
  {
   "cell_type": "code",
   "execution_count": 18,
   "metadata": {},
   "outputs": [
    {
     "name": "stdout",
     "output_type": "stream",
     "text": [
      "{'_id': 1, 'name': 'student00', 'code': 'codeZero'}\n",
      "{'_id': 2, 'name': 'student01', 'code': 'code01'}\n",
      "{'_id': 3, 'name': 'student02', 'code': 'code02'}\n",
      "{'_id': 4, 'name': 'student03', 'code': 'code03'}\n",
      "{'_id': 5, 'name': 'student04', 'code': 'code04'}\n",
      "{'_id': 6, 'name': 'student05', 'code': 'code05'}\n"
     ]
    }
   ],
   "source": [
    "new_query = {\"code\": \"code00\"}\n",
    "\n",
    "new_vals = {\"$set\": {\"code\": \"codeZero\"}}\n",
    "\n",
    "new_col.update_one(new_query, new_vals)\n",
    "\n",
    "for x in new_col.find():\n",
    "    print(x)"
   ]
  },
  {
   "cell_type": "markdown",
   "metadata": {},
   "source": [
    "# Display specific result"
   ]
  },
  {
   "cell_type": "code",
   "execution_count": 19,
   "metadata": {},
   "outputs": [
    {
     "name": "stdout",
     "output_type": "stream",
     "text": [
      "{'_id': 1, 'name': 'student00', 'code': 'codeZero'}\n",
      "{'_id': 2, 'name': 'student01', 'code': 'code01'}\n",
      "{'_id': 3, 'name': 'student02', 'code': 'code02'}\n"
     ]
    }
   ],
   "source": [
    "result = new_col.find().limit(3)\n",
    "\n",
    "for i in result:\n",
    "    print(i)"
   ]
  }
 ],
 "metadata": {
  "kernelspec": {
   "display_name": "Python 3",
   "language": "python",
   "name": "python3"
  },
  "language_info": {
   "codemirror_mode": {
    "name": "ipython",
    "version": 3
   },
   "file_extension": ".py",
   "mimetype": "text/x-python",
   "name": "python",
   "nbconvert_exporter": "python",
   "pygments_lexer": "ipython3",
   "version": "3.10.4"
  },
  "orig_nbformat": 4
 },
 "nbformat": 4,
 "nbformat_minor": 2
}
