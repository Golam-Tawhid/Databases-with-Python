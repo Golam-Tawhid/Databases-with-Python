{
 "cells": [
  {
   "cell_type": "markdown",
   "id": "a2850017",
   "metadata": {},
   "source": [
    "# Installing MySQL COnnector"
   ]
  },
  {
   "cell_type": "code",
   "execution_count": 51,
   "id": "0a16cc95",
   "metadata": {},
   "outputs": [],
   "source": [
    "# !python -m pip install mysql-connector-python"
   ]
  },
  {
   "cell_type": "code",
   "execution_count": 52,
   "id": "4805143e",
   "metadata": {},
   "outputs": [
    {
     "name": "stdout",
     "output_type": "stream",
     "text": [
      "<mysql.connector.connection.MySQLConnection object at 0x000001EB40D644F0>\n"
     ]
    }
   ],
   "source": [
    "import mysql.connector\n",
    "\n",
    "new_db = mysql.connector.connect(\n",
    "    host= \"localhost\",\n",
    "    user= \"root\",\n",
    "    password = \"mysql1110\",\n",
    "    database = \"firstDB\"\n",
    ")\n",
    "print(new_db)"
   ]
  },
  {
   "cell_type": "markdown",
   "id": "54d815b7",
   "metadata": {},
   "source": [
    "# Creating a Database"
   ]
  },
  {
   "cell_type": "code",
   "execution_count": 53,
   "id": "65319e66",
   "metadata": {},
   "outputs": [],
   "source": [
    "f_cursor = new_db.cursor()\n",
    "f_cursor.execute('CREATE DATABASE IF NOT EXISTS firstDB')"
   ]
  },
  {
   "cell_type": "markdown",
   "id": "04431642",
   "metadata": {},
   "source": [
    "# Check if a database exists"
   ]
  },
  {
   "cell_type": "code",
   "execution_count": 54,
   "id": "a02ee733",
   "metadata": {},
   "outputs": [
    {
     "name": "stdout",
     "output_type": "stream",
     "text": [
      "('firstdb',)\n",
      "('information_schema',)\n",
      "('mysql',)\n",
      "('performance_schema',)\n",
      "('sys',)\n"
     ]
    }
   ],
   "source": [
    "f_cursor= new_db.cursor()\n",
    "f_cursor.execute(\"SHOW DATABASES\")\n",
    "\n",
    "for i in f_cursor:\n",
    "    print(i)"
   ]
  },
  {
   "cell_type": "markdown",
   "id": "6a2ea287",
   "metadata": {},
   "source": [
    "# Creating Tables and Showing Data"
   ]
  },
  {
   "cell_type": "code",
   "execution_count": 55,
   "id": "961149de",
   "metadata": {},
   "outputs": [
    {
     "ename": "ProgrammingError",
     "evalue": "1050 (42S01): Table 'students' already exists",
     "output_type": "error",
     "traceback": [
      "\u001b[1;31m---------------------------------------------------------------------------\u001b[0m",
      "\u001b[1;31mProgrammingError\u001b[0m                          Traceback (most recent call last)",
      "Cell \u001b[1;32mIn[55], line 1\u001b[0m\n\u001b[1;32m----> 1\u001b[0m f_cursor\u001b[39m.\u001b[39;49mexecute(\u001b[39m\"\u001b[39;49m\u001b[39mCREATE TABLE students (name VARCHAR(255), code VARCHAR(255))\u001b[39;49m\u001b[39m\"\u001b[39;49m)\n",
      "File \u001b[1;32m~\\AppData\\Roaming\\Python\\Python310\\site-packages\\mysql\\connector\\cursor.py:617\u001b[0m, in \u001b[0;36mMySQLCursor.execute\u001b[1;34m(self, operation, params, multi)\u001b[0m\n\u001b[0;32m    614\u001b[0m     \u001b[39mreturn\u001b[39;00m \u001b[39mself\u001b[39m\u001b[39m.\u001b[39m_execute_iter(\u001b[39mself\u001b[39m\u001b[39m.\u001b[39m_connection\u001b[39m.\u001b[39mcmd_query_iter(stmt))\n\u001b[0;32m    616\u001b[0m \u001b[39mtry\u001b[39;00m:\n\u001b[1;32m--> 617\u001b[0m     \u001b[39mself\u001b[39m\u001b[39m.\u001b[39m_handle_result(\u001b[39mself\u001b[39;49m\u001b[39m.\u001b[39;49m_connection\u001b[39m.\u001b[39;49mcmd_query(stmt))\n\u001b[0;32m    618\u001b[0m \u001b[39mexcept\u001b[39;00m InterfaceError \u001b[39mas\u001b[39;00m err:\n\u001b[0;32m    619\u001b[0m     \u001b[39mif\u001b[39;00m \u001b[39mself\u001b[39m\u001b[39m.\u001b[39m_connection\u001b[39m.\u001b[39mhave_next_result:\n",
      "File \u001b[1;32m~\\AppData\\Roaming\\Python\\Python310\\site-packages\\mysql\\connector\\opentelemetry\\context_propagation.py:77\u001b[0m, in \u001b[0;36mwith_context_propagation.<locals>.wrapper\u001b[1;34m(cnx, *args, **kwargs)\u001b[0m\n\u001b[0;32m     75\u001b[0m \u001b[39m\u001b[39m\u001b[39m\"\"\"Context propagation decorator.\"\"\"\u001b[39;00m\n\u001b[0;32m     76\u001b[0m \u001b[39mif\u001b[39;00m \u001b[39mnot\u001b[39;00m OTEL_ENABLED \u001b[39mor\u001b[39;00m \u001b[39mnot\u001b[39;00m cnx\u001b[39m.\u001b[39motel_context_propagation:\n\u001b[1;32m---> 77\u001b[0m     \u001b[39mreturn\u001b[39;00m method(cnx, \u001b[39m*\u001b[39margs, \u001b[39m*\u001b[39m\u001b[39m*\u001b[39mkwargs)\n\u001b[0;32m     79\u001b[0m current_span \u001b[39m=\u001b[39m trace\u001b[39m.\u001b[39mget_current_span()\n\u001b[0;32m     80\u001b[0m tp_header \u001b[39m=\u001b[39m \u001b[39mNone\u001b[39;00m\n",
      "File \u001b[1;32m~\\AppData\\Roaming\\Python\\Python310\\site-packages\\mysql\\connector\\connection.py:1069\u001b[0m, in \u001b[0;36mMySQLConnection.cmd_query\u001b[1;34m(self, query, raw, buffered, raw_as_string)\u001b[0m\n\u001b[0;32m   1067\u001b[0m query \u001b[39m=\u001b[39m \u001b[39mbytes\u001b[39m(packet)\n\u001b[0;32m   1068\u001b[0m \u001b[39mtry\u001b[39;00m:\n\u001b[1;32m-> 1069\u001b[0m     result \u001b[39m=\u001b[39m \u001b[39mself\u001b[39;49m\u001b[39m.\u001b[39;49m_handle_result(\u001b[39mself\u001b[39;49m\u001b[39m.\u001b[39;49m_send_cmd(ServerCmd\u001b[39m.\u001b[39;49mQUERY, query))\n\u001b[0;32m   1070\u001b[0m \u001b[39mexcept\u001b[39;00m ProgrammingError \u001b[39mas\u001b[39;00m err:\n\u001b[0;32m   1071\u001b[0m     \u001b[39mif\u001b[39;00m err\u001b[39m.\u001b[39merrno \u001b[39m==\u001b[39m \u001b[39m3948\u001b[39m \u001b[39mand\u001b[39;00m \u001b[39m\"\u001b[39m\u001b[39mLoading local data is disabled\u001b[39m\u001b[39m\"\u001b[39m \u001b[39min\u001b[39;00m err\u001b[39m.\u001b[39mmsg:\n",
      "File \u001b[1;32m~\\AppData\\Roaming\\Python\\Python310\\site-packages\\mysql\\connector\\connection.py:846\u001b[0m, in \u001b[0;36mMySQLConnection._handle_result\u001b[1;34m(self, packet)\u001b[0m\n\u001b[0;32m    844\u001b[0m     \u001b[39mreturn\u001b[39;00m \u001b[39mself\u001b[39m\u001b[39m.\u001b[39m_handle_eof(packet)\n\u001b[0;32m    845\u001b[0m \u001b[39mif\u001b[39;00m packet[\u001b[39m4\u001b[39m] \u001b[39m==\u001b[39m \u001b[39m255\u001b[39m:\n\u001b[1;32m--> 846\u001b[0m     \u001b[39mraise\u001b[39;00m get_exception(packet)\n\u001b[0;32m    848\u001b[0m \u001b[39m# We have a text result set\u001b[39;00m\n\u001b[0;32m    849\u001b[0m column_count \u001b[39m=\u001b[39m \u001b[39mself\u001b[39m\u001b[39m.\u001b[39m_protocol\u001b[39m.\u001b[39mparse_column_count(packet)\n",
      "\u001b[1;31mProgrammingError\u001b[0m: 1050 (42S01): Table 'students' already exists"
     ]
    }
   ],
   "source": [
    "f_cursor.execute(\"CREATE TABLE students (name VARCHAR(255), code VARCHAR(255))\")"
   ]
  },
  {
   "cell_type": "markdown",
   "id": "868806c1",
   "metadata": {},
   "source": [
    "# List all tables in firstDB databse"
   ]
  },
  {
   "cell_type": "code",
   "execution_count": null,
   "id": "a61017d1",
   "metadata": {},
   "outputs": [
    {
     "name": "stdout",
     "output_type": "stream",
     "text": [
      "('students',)\n"
     ]
    }
   ],
   "source": [
    "f_cursor = new_db.cursor()\n",
    "f_cursor.execute(\"SHOW TABLES\")\n",
    "\n",
    "for j in f_cursor:\n",
    "    print(j)"
   ]
  },
  {
   "cell_type": "markdown",
   "id": "ef0e15d3",
   "metadata": {},
   "source": [
    "# Add PRIMARY KEY when creating table"
   ]
  },
  {
   "cell_type": "code",
   "execution_count": null,
   "id": "6779f6ad",
   "metadata": {},
   "outputs": [],
   "source": [
    "f_cursor.execute(\"CREATE TABLE clients (id INT AUTO_INCREMENT PRIMARY KEY, name VARCHAR(255), code VARCHAR(255))\")\n"
   ]
  },
  {
   "cell_type": "markdown",
   "id": "0e25f23c",
   "metadata": {},
   "source": [
    "# Add PRIMARY KEY if table alredy exists"
   ]
  },
  {
   "cell_type": "code",
   "execution_count": null,
   "id": "28b95f4d",
   "metadata": {},
   "outputs": [],
   "source": [
    "f_cursor.execute(\"ALTER TABLE students ADD COLUMN id INT AUTO_INCREMENT PRIMARY KEY\")"
   ]
  },
  {
   "cell_type": "markdown",
   "id": "0aa25b35",
   "metadata": {},
   "source": [
    "# Inserting data into tables"
   ]
  },
  {
   "cell_type": "code",
   "execution_count": null,
   "id": "397ef683",
   "metadata": {},
   "outputs": [
    {
     "name": "stdout",
     "output_type": "stream",
     "text": [
      "1 new record inserted\n"
     ]
    }
   ],
   "source": [
    "new_sql = \"INSERT INTO students (name, code) VALUES (%s, %s)\"\n",
    "new_vals = (\"Ronaldo\", \"CODE12\")\n",
    "\n",
    "f_cursor.execute(new_sql, new_vals)\n",
    "new_db.commit()\n",
    "\n",
    "print(f_cursor.rowcount, \"new record inserted\")"
   ]
  },
  {
   "cell_type": "markdown",
   "id": "8f2d6ceb",
   "metadata": {},
   "source": [
    "# Inserting many records into tables"
   ]
  },
  {
   "cell_type": "code",
   "execution_count": null,
   "id": "0e2b62ee",
   "metadata": {},
   "outputs": [
    {
     "name": "stdout",
     "output_type": "stream",
     "text": [
      "4 records inserted\n"
     ]
    }
   ],
   "source": [
    "new_sql = \"INSERT INTO students (name, code) VALUES (%s, %s)\"\n",
    "new_vals= [\n",
    "    (\"Messi\", \"CODE30\"),\n",
    "    (\"Pogba\", \"CODE06\"),\n",
    "    (\"Salah\", \"CODE11\"),\n",
    "    (\"Fahad\", \"CODE22\")\n",
    "]\n",
    "\n",
    "f_cursor.executemany(new_sql, new_vals)\n",
    "new_db.commit()\n",
    "\n",
    "print(f_cursor.rowcount, \"records inserted\")"
   ]
  },
  {
   "cell_type": "markdown",
   "id": "afb996d5",
   "metadata": {},
   "source": [
    "# Select Table's data"
   ]
  },
  {
   "cell_type": "code",
   "execution_count": null,
   "id": "1e317436",
   "metadata": {},
   "outputs": [
    {
     "name": "stdout",
     "output_type": "stream",
     "text": [
      "('Ronaldo', 'CODE12', 1)\n",
      "('Messi', 'CODE30', 2)\n",
      "('Pogba', 'CODE06', 3)\n",
      "('Salah', 'CODE11', 4)\n",
      "('Fahad', 'CODE22', 5)\n",
      "('Messi', 'CODE30', 6)\n",
      "('Pogba', 'CODE06', 7)\n",
      "('Salah', 'CODE11', 8)\n",
      "('Fahad', 'CODE22', 9)\n"
     ]
    }
   ],
   "source": [
    "f_cursor.execute(\"SELECT * FROM students\")\n",
    "new_data = f_cursor.fetchall()\n",
    "\n",
    "for i in new_data:\n",
    "    print(i)"
   ]
  },
  {
   "cell_type": "markdown",
   "id": "80b8e518",
   "metadata": {},
   "source": [
    "# Select data from columns"
   ]
  },
  {
   "cell_type": "code",
   "execution_count": 56,
   "id": "2870d252",
   "metadata": {},
   "outputs": [
    {
     "name": "stdout",
     "output_type": "stream",
     "text": [
      "('Ronaldo', 'CODE12')\n",
      "('Messi', 'CODE30')\n",
      "('Pogba', 'CODE06')\n",
      "('Salah', 'CODE11')\n",
      "('Fahad', 'CODE22')\n",
      "('Messi', 'CODE30')\n",
      "('Pogba', 'CODE06')\n",
      "('Salah', 'CODE11')\n",
      "('Fahad', 'CODE22')\n"
     ]
    }
   ],
   "source": [
    "f_cursor.execute(\"SELECT name, code FROM students\")\n",
    "new_data = f_cursor.fetchall()\n",
    "\n",
    "for i in new_data:\n",
    "    print(i)"
   ]
  },
  {
   "cell_type": "markdown",
   "id": "c65f4f64",
   "metadata": {},
   "source": [
    "Get the first record"
   ]
  },
  {
   "cell_type": "code",
   "execution_count": null,
   "id": "71efa85e",
   "metadata": {},
   "outputs": [
    {
     "name": "stdout",
     "output_type": "stream",
     "text": [
      "('Ronaldo', 'CODE12', 1)\n"
     ]
    }
   ],
   "source": [
    "f_cursor.execute(\"SELECT * FROM students\")\n",
    "new_data = f_cursor.fetchone()\n",
    "\n",
    "print(new_data)"
   ]
  },
  {
   "cell_type": "markdown",
   "id": "a08b5ef3",
   "metadata": {},
   "source": [
    "# Filter the result"
   ]
  },
  {
   "cell_type": "code",
   "execution_count": 58,
   "id": "d16ebf01",
   "metadata": {},
   "outputs": [
    {
     "name": "stdout",
     "output_type": "stream",
     "text": [
      "('Messi', 'CODE30', 2)\n",
      "('Messi', 'CODE30', 6)\n"
     ]
    }
   ],
   "source": [
    "new_sql = \"SELECT * FROM students WHERE name = 'Messi'\"\n",
    "\n",
    "f_cursor.execute(new_sql)\n",
    "new_data = f_cursor.fetchall()\n",
    "\n",
    "for i in new_data:\n",
    "    print(i)"
   ]
  },
  {
   "cell_type": "markdown",
   "id": "8d11c68c",
   "metadata": {},
   "source": [
    "# Wildcard characters (%)"
   ]
  },
  {
   "cell_type": "code",
   "execution_count": 59,
   "id": "0dcecded",
   "metadata": {},
   "outputs": [
    {
     "name": "stdout",
     "output_type": "stream",
     "text": [
      "('Messi', 'CODE30', 2)\n",
      "('Messi', 'CODE30', 6)\n"
     ]
    }
   ],
   "source": [
    "new_sql = \"SELECT * FROM students WHERE name LIKE '%mes%'\"\n",
    "\n",
    "f_cursor.execute(new_sql)\n",
    "new_data = f_cursor.fetchall()\n",
    "\n",
    "for i in new_data:\n",
    "    print(i)"
   ]
  },
  {
   "cell_type": "markdown",
   "id": "f87f4df4",
   "metadata": {},
   "source": [
    "# Sorting results"
   ]
  },
  {
   "cell_type": "code",
   "execution_count": 60,
   "id": "d0d3befc",
   "metadata": {},
   "outputs": [
    {
     "name": "stdout",
     "output_type": "stream",
     "text": [
      "('Salah', 'CODE11', 4)\n",
      "('Salah', 'CODE11', 8)\n",
      "('Ronaldo', 'CODE12', 1)\n",
      "('Pogba', 'CODE06', 3)\n",
      "('Pogba', 'CODE06', 7)\n",
      "('Messi', 'CODE30', 2)\n",
      "('Messi', 'CODE30', 6)\n",
      "('Fahad', 'CODE22', 5)\n",
      "('Fahad', 'CODE22', 9)\n"
     ]
    }
   ],
   "source": [
    "# new_sql = \"SELECT * FROM students ORDER BY name\" #ascending\n",
    "new_sql = \"SELECT * FROM students ORDER BY name DESC\" #descending\n",
    "f_cursor.execute(new_sql)\n",
    "\n",
    "new_data = f_cursor.fetchall()\n",
    "\n",
    "for i in new_data:\n",
    "    print(i)"
   ]
  },
  {
   "cell_type": "markdown",
   "id": "e2671117",
   "metadata": {},
   "source": [
    "# Deleting records"
   ]
  },
  {
   "cell_type": "code",
   "execution_count": 61,
   "id": "808acde6",
   "metadata": {},
   "outputs": [
    {
     "name": "stdout",
     "output_type": "stream",
     "text": [
      "2 records deleted from firstDB\n"
     ]
    }
   ],
   "source": [
    "new_sql = \"DELETE FROM students WHERE name = %s\"\n",
    "name = (\"Pogba\",) #to prevent sql injection\n",
    "f_cursor.execute(new_sql, name)\n",
    "\n",
    "new_db.commit()\n",
    "\n",
    "print(f_cursor.rowcount, \"records deleted from firstDB\")"
   ]
  },
  {
   "cell_type": "markdown",
   "id": "6907109c",
   "metadata": {},
   "source": [
    "# Deleting table"
   ]
  },
  {
   "cell_type": "code",
   "execution_count": 62,
   "id": "4e81e227",
   "metadata": {},
   "outputs": [],
   "source": [
    "new_sql = \"DROP TABLE IF EXISTS clients\"\n",
    "\n",
    "f_cursor.execute(new_sql)"
   ]
  },
  {
   "cell_type": "markdown",
   "id": "332d671d",
   "metadata": {},
   "source": [
    "# Updating table"
   ]
  },
  {
   "cell_type": "code",
   "execution_count": 63,
   "id": "222ca69c",
   "metadata": {},
   "outputs": [
    {
     "name": "stdout",
     "output_type": "stream",
     "text": [
      "2 record changed in students table\n"
     ]
    }
   ],
   "source": [
    "new_sql = \"UPDATE students SET code = %s WHERE code = %s\"\n",
    "new_vals = (\"CODE07\", \"CODE11\")\n",
    "f_cursor.execute(new_sql, new_vals)\n",
    "\n",
    "new_db.commit()\n",
    "\n",
    "print(f_cursor.rowcount, \"record changed in students table\")"
   ]
  },
  {
   "cell_type": "markdown",
   "id": "92f15c87",
   "metadata": {},
   "source": [
    "# Limit the records"
   ]
  },
  {
   "cell_type": "code",
   "execution_count": 64,
   "id": "f026cee7",
   "metadata": {},
   "outputs": [
    {
     "name": "stdout",
     "output_type": "stream",
     "text": [
      "('Ronaldo', 'CODE12', 1)\n",
      "('Messi', 'CODE30', 2)\n",
      "('Salah', 'CODE07', 4)\n",
      "('Fahad', 'CODE22', 5)\n"
     ]
    }
   ],
   "source": [
    "new_sql = \"SELECT * FROM students LIMIT 4\"\n",
    "f_cursor.execute(new_sql)\n",
    "new_data = f_cursor.fetchall()\n",
    "\n",
    "for i in new_data:\n",
    "    print(i)"
   ]
  },
  {
   "cell_type": "code",
   "execution_count": 65,
   "id": "e83e0cdb",
   "metadata": {},
   "outputs": [
    {
     "name": "stdout",
     "output_type": "stream",
     "text": [
      "('Messi', 'CODE30', 6)\n",
      "('Salah', 'CODE07', 8)\n",
      "('Fahad', 'CODE22', 9)\n"
     ]
    }
   ],
   "source": [
    "new_sql = \"SELECT * FROM students LIMIT 3 OFFSET 4\"\n",
    "f_cursor.execute(new_sql)\n",
    "new_data = f_cursor.fetchall()\n",
    "\n",
    "for i in new_data:\n",
    "    print(i)"
   ]
  }
 ],
 "metadata": {
  "kernelspec": {
   "display_name": "Python 3 (ipykernel)",
   "language": "python",
   "name": "python3"
  },
  "language_info": {
   "codemirror_mode": {
    "name": "ipython",
    "version": 3
   },
   "file_extension": ".py",
   "mimetype": "text/x-python",
   "name": "python",
   "nbconvert_exporter": "python",
   "pygments_lexer": "ipython3",
   "version": "3.10.4"
  }
 },
 "nbformat": 4,
 "nbformat_minor": 5
}
